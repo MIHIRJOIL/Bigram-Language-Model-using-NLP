{
  "nbformat": 4,
  "nbformat_minor": 0,
  "metadata": {
    "colab": {
      "provenance": []
    },
    "kernelspec": {
      "name": "python3",
      "display_name": "Python 3"
    },
    "language_info": {
      "name": "python"
    }
  },
  "cells": [
    {
      "cell_type": "code",
      "execution_count": 1,
      "metadata": {
        "colab": {
          "base_uri": "https://localhost:8080/"
        },
        "id": "Y36N_ZsF4dUo",
        "outputId": "995c1d30-1b05-4b58-fd17-c3e4d66b630d"
      },
      "outputs": [
        {
          "output_type": "stream",
          "name": "stderr",
          "text": [
            "[nltk_data] Downloading package punkt to /root/nltk_data...\n",
            "[nltk_data]   Unzipping tokenizers/punkt.zip.\n"
          ]
        },
        {
          "output_type": "stream",
          "name": "stdout",
          "text": [
            "enter a string:To be or not to be that is the question.\n",
            "['To', 'be', 'or', 'not', 'to', 'be', 'that', 'is', 'the', 'question', '.']\n",
            "['ToTo', 'bebe', 'oror', 'notnot', 'toto', 'bebe', 'thatthat', 'isis', 'thethe', 'questionquestion']\n"
          ]
        }
      ],
      "source": [
        "import nltk\n",
        "nltk.download('punkt')\n",
        "from nltk import word_tokenize\n",
        "Sent = input(\"enter a string:\")\n",
        "gram = 2\n",
        "token = word_tokenize(Sent)\n",
        "print(token)\n",
        "bigram =[]\n",
        "for i in range(len(token)-(gram-1)):\n",
        "    temp = [token[i] for j in range(i,i+gram)]\n",
        "    bigram.append(\"\".join(temp))\n",
        "print(bigram)"
      ]
    }
  ]
}